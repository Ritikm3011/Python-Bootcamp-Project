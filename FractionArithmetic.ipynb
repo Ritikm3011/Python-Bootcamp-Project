{
 "cells": [
  {
   "cell_type": "code",
   "execution_count": 1,
   "id": "76c13585-d0be-445c-8467-64ebc246cd0d",
   "metadata": {},
   "outputs": [],
   "source": [
    "from math import gcd"
   ]
  },
  {
   "cell_type": "code",
   "execution_count": 164,
   "id": "3c6b468f-13c7-4b9d-a99f-88604794db84",
   "metadata": {},
   "outputs": [],
   "source": [
    "class Fraction:\n",
    "    def __init__(self,n,d):\n",
    "        if d == 0:\n",
    "            print(\"Denominator can't be zero\")\n",
    "        else:\n",
    "            common = gcd(n,d)\n",
    "               \n",
    "            self.num = n//common\n",
    "            self.den = d//common\n",
    "        \n",
    "    def __str__(self): #when print is called\n",
    "        return \"{}/{}\".format(self.num,self.den)\n",
    "\n",
    "        \n",
    "    def __add__(self,other): #when + is done\n",
    "        temp_num = self.num * other.den + other.num * self.den\n",
    "        temp_den = self.den * other.den\n",
    "        return Fraction(temp_num,temp_den)\n",
    "\n",
    "    def __sub__(self,other): #when + is done\n",
    "        temp_num = self.num * other.den - other.num * self.den\n",
    "        temp_den = self.den * other.den\n",
    "        return Fraction(temp_num,temp_den)\n",
    "\n",
    "    def __mul__(self,other): #when + is done\n",
    "        temp_num = self.num *  other.num \n",
    "        temp_den = self.den * other.den\n",
    "        return Fraction(temp_num,temp_den)\n",
    "\n",
    "    def __truediv__(self,other): #when + is done\n",
    "        if other == 0:\n",
    "            print(\"Cannot divide by a fraction with a numerator of zero\")\n",
    "        temp_num = self.num *  other.den \n",
    "        temp_den = self.den * other.num\n",
    "        return Fraction(temp_num,temp_den)\n",
    "        \n",
    "                    "
   ]
  },
  {
   "cell_type": "code",
   "execution_count": 166,
   "id": "46b487e8-778c-4b55-b244-3fa9c98054ca",
   "metadata": {},
   "outputs": [
    {
     "name": "stdout",
     "output_type": "stream",
     "text": [
      "a: 1/10, b:2/1\n"
     ]
    }
   ],
   "source": [
    "a = Fraction(3,30)\n",
    "b = Fraction(10,5)\n",
    "print(f\"a: {a}, b:{b}\")"
   ]
  },
  {
   "cell_type": "code",
   "execution_count": 168,
   "id": "1ac5acad-8ab9-46cc-bc46-01d4e2a57509",
   "metadata": {},
   "outputs": [
    {
     "name": "stdout",
     "output_type": "stream",
     "text": [
      "Addition: 21/10\n",
      "Subtraction: -19/10\n",
      "Multiplication: 1/5\n",
      "Division: 1/20\n"
     ]
    }
   ],
   "source": [
    "print(f\"Addition: {a+b}\")\n",
    "print(f\"Subtraction: {a-b}\")\n",
    "print(f\"Multiplication: {a*b}\")\n",
    "print(f\"Division: {a/b}\")"
   ]
  },
  {
   "cell_type": "code",
   "execution_count": 170,
   "id": "ffe31a9c-4498-4803-82af-09b368ef975d",
   "metadata": {},
   "outputs": [
    {
     "name": "stdout",
     "output_type": "stream",
     "text": [
      "a: 1/10, b:0/1\n"
     ]
    }
   ],
   "source": [
    "a = Fraction(3,30)\n",
    "b = Fraction(0,5)\n",
    "print(f\"a: {a}, b:{b}\")"
   ]
  },
  {
   "cell_type": "code",
   "execution_count": 172,
   "id": "f26e7dee-bd6d-4233-b0c5-6f3de8eeb588",
   "metadata": {},
   "outputs": [
    {
     "name": "stdout",
     "output_type": "stream",
     "text": [
      "Addition: 1/10\n",
      "Subtraction: 1/10\n",
      "Multiplication: 0/1\n"
     ]
    }
   ],
   "source": [
    "print(f\"Addition: {a+b}\")\n",
    "print(f\"Subtraction: {a-b}\")\n",
    "print(f\"Multiplication: {a*b}\")\n"
   ]
  },
  {
   "cell_type": "code",
   "execution_count": 178,
   "id": "cef5474b-188b-48b6-9dcf-e4fcb8817ba8",
   "metadata": {},
   "outputs": [
    {
     "name": "stdout",
     "output_type": "stream",
     "text": [
      "Denominator can't be zero\n"
     ]
    },
    {
     "data": {
      "text/plain": [
       "<__main__.Fraction at 0x164a99576e0>"
      ]
     },
     "execution_count": 178,
     "metadata": {},
     "output_type": "execute_result"
    }
   ],
   "source": [
    "a/b"
   ]
  },
  {
   "cell_type": "code",
   "execution_count": 180,
   "id": "f29ef2b3-b4a4-4243-8ac3-c340036c1e15",
   "metadata": {},
   "outputs": [
    {
     "name": "stdout",
     "output_type": "stream",
     "text": [
      "Denominator can't be zero\n"
     ]
    }
   ],
   "source": [
    "x = Fraction(1,0)"
   ]
  },
  {
   "cell_type": "code",
   "execution_count": null,
   "id": "fa6e3eeb-57ff-4cfc-b684-8a2eeb1d900f",
   "metadata": {},
   "outputs": [],
   "source": []
  }
 ],
 "metadata": {
  "kernelspec": {
   "display_name": "Python 3 (ipykernel)",
   "language": "python",
   "name": "python3"
  },
  "language_info": {
   "codemirror_mode": {
    "name": "ipython",
    "version": 3
   },
   "file_extension": ".py",
   "mimetype": "text/x-python",
   "name": "python",
   "nbconvert_exporter": "python",
   "pygments_lexer": "ipython3",
   "version": "3.12.4"
  },
  "widgets": {
   "application/vnd.jupyter.widget-state+json": {
    "state": {},
    "version_major": 2,
    "version_minor": 0
   }
  }
 },
 "nbformat": 4,
 "nbformat_minor": 5
}
