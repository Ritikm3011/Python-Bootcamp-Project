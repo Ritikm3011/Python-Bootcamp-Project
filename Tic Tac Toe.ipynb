{
 "cells": [
  {
   "cell_type": "code",
   "execution_count": 32,
   "id": "e58a1129-17c7-4104-b9bc-42c79fbf29d9",
   "metadata": {},
   "outputs": [],
   "source": [
    "from IPython.display import clear_output\n",
    "import random"
   ]
  },
  {
   "cell_type": "code",
   "execution_count": 65,
   "id": "3e12b526-713b-4b92-8e1a-2f958baf8a7a",
   "metadata": {},
   "outputs": [],
   "source": [
    "def display_board(board, player):\n",
    "    clear_output()\n",
    "    print('Turn : '+player)\n",
    "    print(' '+board[7]+' | '+board[8]+' | '+board[9] + \"\\t\\t\" + ' '+'7'+' | '+'8'+' | '+'9')\n",
    "    print('---|---|---'+ '\\t\\t' + '---|---|---' )\n",
    "    print(' '+board[4]+' | '+board[5]+' | '+board[6] + \"\\t\\t\" + ' '+'4'+' | '+'5'+' | '+'6')\n",
    "    print('---|---|---'+ '\\t\\t' + '---|---|---')\n",
    "    print(' '+board[1]+' | '+board[2]+' | '+board[3] + \"\\t\\t\" + ' '+'1'+' | '+'2'+' | '+'3')"
   ]
  },
  {
   "cell_type": "code",
   "execution_count": 67,
   "id": "2758a2bb-a474-4372-aef0-f34e838ff77b",
   "metadata": {},
   "outputs": [
    {
     "name": "stdout",
     "output_type": "stream",
     "text": [
      "Turn : payer 1\n",
      " X | O | X\t\t 7 | 8 | 9\n",
      "---|---|---\t\t---|---|---\n",
      " O | X | O\t\t 4 | 5 | 6\n",
      "---|---|---\t\t---|---|---\n",
      " X | O | X\t\t 1 | 2 | 3\n"
     ]
    }
   ],
   "source": [
    "test_board = ['#','X','O','X','O','X','O','X','O','X']\n",
    "display_board(test_board, 'payer 1')"
   ]
  },
  {
   "cell_type": "code",
   "execution_count": 35,
   "id": "966470c0-3b21-4ee0-a407-7168342f0243",
   "metadata": {},
   "outputs": [],
   "source": [
    "def player_input():\n",
    "    maker = ''\n",
    "    while not (maker == 'X' or maker == 'O'):\n",
    "        maker = input('Player 1: Do you want to be X or O : ').upper()\n",
    "\n",
    "    if maker == 'X':\n",
    "        return ('X','O')\n",
    "    else:\n",
    "        return ('O', 'X')"
   ]
  },
  {
   "cell_type": "code",
   "execution_count": 36,
   "id": "7e43f528-56dc-423f-98b2-f0423a330619",
   "metadata": {},
   "outputs": [],
   "source": [
    "def place_maker(board, maker, position):\n",
    "    board[position] = maker"
   ]
  },
  {
   "cell_type": "code",
   "execution_count": 37,
   "id": "20370640-5111-4df4-85b0-27d84e385af6",
   "metadata": {},
   "outputs": [],
   "source": [
    "def win_check(board, mark):\n",
    "    return ((board[7] == mark and board[8] == mark and board[9] == mark) #top row\n",
    "    or (board[4] == mark and board[5] == mark and board[6] == mark)    #middle row\n",
    "    or (board[1] == mark and board[2] == mark and board[3] == mark)    #last row\n",
    "    or (board[7] == mark and board[4] == mark and board[1] == mark)    #1st column\n",
    "    or (board[8] == mark and board[5] == mark and board[2] == mark)    #middle column\n",
    "    or (board[9] == mark and board[6] == mark and board[3] == mark)    #3rd column\n",
    "    or (board[7] == mark and board[5] == mark and board[3] == mark)    #diagonal\n",
    "    or (board[9] == mark and board[5] == mark and board[1] == mark) )   #diagonal"
   ]
  },
  {
   "cell_type": "code",
   "execution_count": 38,
   "id": "b967b419-100b-4ee2-b6e1-8223a26a4db8",
   "metadata": {},
   "outputs": [],
   "source": [
    "def choose_first():\n",
    "    if random.randint(0,1) == 0:\n",
    "        return 'Player 2'\n",
    "    else: \n",
    "        return 'Player 1'"
   ]
  },
  {
   "cell_type": "code",
   "execution_count": 39,
   "id": "11fe47e7-d6fa-4d21-b69e-d134db4e6c55",
   "metadata": {},
   "outputs": [],
   "source": [
    "#if space is empty return True\n",
    "def space_check(board, position):\n",
    "    return board[position] == ' '"
   ]
  },
  {
   "cell_type": "code",
   "execution_count": 40,
   "id": "6633aa2e-3586-4a4f-aee8-2d1c4b1f26a2",
   "metadata": {},
   "outputs": [],
   "source": [
    "#if there is any space left return False\n",
    "#else board full than return True\n",
    "def full_board_check(board):\n",
    "    for i in range(1,10):\n",
    "        if space_check(board, i):\n",
    "            return False\n",
    "    return True\n",
    "         "
   ]
  },
  {
   "cell_type": "code",
   "execution_count": 41,
   "id": "527e5e83-0bf7-4369-a989-9c2fa5f476ea",
   "metadata": {},
   "outputs": [],
   "source": [
    "def player_choice(board):\n",
    "    position = 0\n",
    "    while position not in range(1,10) or not space_check(board, position):\n",
    "        position = int(input(\"choose your next position (1-9): \"))\n",
    "    return position"
   ]
  },
  {
   "cell_type": "code",
   "execution_count": 42,
   "id": "df8d8cc1-2636-48c1-bac3-a62eb9d09a8b",
   "metadata": {},
   "outputs": [],
   "source": [
    "def replay():\n",
    "    return input('do you want to play again? (Yes or No)').lower().startswith('y')"
   ]
  },
  {
   "cell_type": "code",
   "execution_count": 69,
   "id": "d2b5cba1-9ceb-48d9-aa3a-763f31c46e12",
   "metadata": {},
   "outputs": [
    {
     "name": "stdout",
     "output_type": "stream",
     "text": [
      "Turn : \n",
      " O | X | O\t\t 7 | 8 | 9\n",
      "---|---|---\t\t---|---|---\n",
      " X | O | O\t\t 4 | 5 | 6\n",
      "---|---|---\t\t---|---|---\n",
      " X | O | X\t\t 1 | 2 | 3\n",
      "The game is a draw!\n"
     ]
    },
    {
     "name": "stdin",
     "output_type": "stream",
     "text": [
      "do you want to play again? (Yes or No) n\n"
     ]
    }
   ],
   "source": [
    "print(\"Welcome to Tic Tac Toe\")\n",
    "while True:\n",
    "    #Reset the board\n",
    "    theBoard = [' '] * 10\n",
    "    player1_marker, player2_marker = player_input()\n",
    "    turn = choose_first()\n",
    "    print(turn + ' will go first..')\n",
    "\n",
    "    game_on = input(\"Are you ready to Play? (Yes or No)\").lower().startswith('y') # Yes = Ture \n",
    "\n",
    "    while game_on:\n",
    "        if turn == 'Player 1':\n",
    "            \n",
    "            display_board(theBoard, turn)\n",
    "            position = player_choice(theBoard)\n",
    "            \n",
    "            place_maker(theBoard, player1_marker, position)\n",
    "            print(\"Player 1\")\n",
    "            if win_check(theBoard, player1_marker):\n",
    "                display_board(theBoard,turn)\n",
    "                print('Congratulations! Player 1 You have won the game!')\n",
    "                game_on = False\n",
    "            elif full_board_check(theBoard):\n",
    "                display_board(theBoard,'')\n",
    "                print('The game is a draw!')\n",
    "                break\n",
    "            else:\n",
    "                turn = 'Player 2'\n",
    "                \n",
    "        elif turn == 'Player 2':\n",
    "            \n",
    "            display_board(theBoard, turn)\n",
    "            position = player_choice(theBoard)\n",
    "            print(\"Player 2\")\n",
    "            place_maker(theBoard, player2_marker, position)\n",
    "\n",
    "            if win_check(theBoard, player2_marker):\n",
    "                display_board(theBoard, turn)\n",
    "                print('Congratulations! Player 2 You have won the game!')\n",
    "                game_on = False\n",
    "            elif full_board_check(theBoard):\n",
    "                display_board(theBoard,'')\n",
    "                print('The game is a draw!')\n",
    "                break\n",
    "            else:\n",
    "                turn = 'Player 1'\n",
    "    \n",
    "    if not replay():\n",
    "        break\n",
    "            \n",
    "    "
   ]
  },
  {
   "cell_type": "code",
   "execution_count": null,
   "id": "3972086f-9ee8-4f96-9d3b-8f2240df390b",
   "metadata": {},
   "outputs": [],
   "source": []
  }
 ],
 "metadata": {
  "kernelspec": {
   "display_name": "Python 3 (ipykernel)",
   "language": "python",
   "name": "python3"
  },
  "language_info": {
   "codemirror_mode": {
    "name": "ipython",
    "version": 3
   },
   "file_extension": ".py",
   "mimetype": "text/x-python",
   "name": "python",
   "nbconvert_exporter": "python",
   "pygments_lexer": "ipython3",
   "version": "3.12.4"
  },
  "widgets": {
   "application/vnd.jupyter.widget-state+json": {
    "state": {},
    "version_major": 2,
    "version_minor": 0
   }
  }
 },
 "nbformat": 4,
 "nbformat_minor": 5
}
